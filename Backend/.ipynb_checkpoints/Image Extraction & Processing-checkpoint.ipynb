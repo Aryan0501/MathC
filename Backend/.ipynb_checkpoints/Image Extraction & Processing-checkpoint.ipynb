{
 "cells": [
  {
   "cell_type": "markdown",
   "metadata": {},
   "source": [
    "Importing necessary libraries for extraction and processing images"
   ]
  },
  {
   "cell_type": "code",
   "execution_count": 1,
   "metadata": {},
   "outputs": [],
   "source": [
    "import numpy as np\n",
    "import pandas as pd\n",
    "import cv2 as cv\n",
    "from PIL import Image\n",
    "import os\n",
    "from os import listdir\n",
    "from os.path import isfile, join\n",
    "from matplotlib import pyplot as plt\n",
    "%matplotlib inline"
   ]
  },
  {
   "cell_type": "markdown",
   "metadata": {},
   "source": [
    "Function to read image from files and identifying numbers and symbols "
   ]
  },
  {
   "cell_type": "code",
   "execution_count": 2,
   "metadata": {},
   "outputs": [
    {
     "ename": "SyntaxError",
     "evalue": "unexpected EOF while parsing (<ipython-input-2-2d0c0d121ca0>, line 3)",
     "output_type": "error",
     "traceback": [
      "\u001b[1;36m  File \u001b[1;32m\"<ipython-input-2-2d0c0d121ca0>\"\u001b[1;36m, line \u001b[1;32m3\u001b[0m\n\u001b[1;33m    for filename in os.listdir(folder):\u001b[0m\n\u001b[1;37m                                       ^\u001b[0m\n\u001b[1;31mSyntaxError\u001b[0m\u001b[1;31m:\u001b[0m unexpected EOF while parsing\n"
     ]
    }
   ],
   "source": [
    "def extract_img(folder):\n",
    "    train = []\n",
    "    for filename in os.listdir(folder):\n",
    "        #read image in grayscale and invert image for best results\n",
    "        image = cv.imread(os.path.join(folder,filename),cv2.IMREAD_GRAYSCALE)\n",
    "        image = ~image\n",
    "        if image is not None:\n",
    "            #segmentation of data into foreground and background\n",
    "            ret,thresh=cv.threshold(image, 127, 255, cv.THRESH_BINARY)\n",
    "            #object detection using contours\n",
    "            contours,hierarchy=cv.findContours(thresh, cv.RETR_EXTERNAL, cv.CHAIN_APPROX_NONE)\n",
    "            contour=sorted(contours, lambda x: cv.boundingRect(x)[0])\n",
    "            width,height=int(28)\n",
    "            "
   ]
  },
  {
   "cell_type": "code",
   "execution_count": null,
   "metadata": {},
   "outputs": [],
   "source": []
  }
 ],
 "metadata": {
  "kernelspec": {
   "display_name": "Python 3",
   "language": "python",
   "name": "python3"
  },
  "language_info": {
   "codemirror_mode": {
    "name": "ipython",
    "version": 3
   },
   "file_extension": ".py",
   "mimetype": "text/x-python",
   "name": "python",
   "nbconvert_exporter": "python",
   "pygments_lexer": "ipython3",
   "version": "3.7.4"
  }
 },
 "nbformat": 4,
 "nbformat_minor": 4
}
